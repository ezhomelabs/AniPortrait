{
    "cells": [
     {
      "cell_type": "markdown",
      "metadata": {},
      "source": [
       "# Project Setup and Execution\n",
       "\n",
       "This notebook will guide you through the steps to set up and run the project. We will:\n",
       "1. Install the required packages.\n",
       "2. Run the `download.py` script to download necessary files.\n",
       "3. Execute the audio to video conversion script with specific parameters."
      ]
     },
     {
      "cell_type": "markdown",
      "metadata": {},
      "source": [
       "## Step 1: Install Required Packages\n",
       "\n",
       "First, ensure you have all the required packages installed by running the following command in the project root:"
      ]
     },
     {
      "cell_type": "code",
      "execution_count": null,
      "metadata": {},
      "outputs": [],
      "source": [
       "!pip install -r requirements.txt"
      ]
     },
     {
      "cell_type": "markdown",
      "metadata": {},
      "source": [
       "## Step 2: Run `download.py`\n",
       "\n",
       "Next, run the `download.py` script to download the necessary files."
      ]
     },
     {
      "cell_type": "code",
      "execution_count": null,
      "metadata": {},
      "outputs": [],
      "source": [
       "!python download.py"
      ]
     },
     {
      "cell_type": "markdown",
      "metadata": {},
      "source": [
       "## Step 3: Execute the Audio to Video Conversion Script\n",
       "\n",
       "Finally, run the audio to video conversion script with the specified configuration and parameters:"
      ]
     },
     {
      "cell_type": "code",
      "execution_count": null,
      "metadata": {},
      "outputs": [],
      "source": [
       "!python -m scripts.audio2vid --config ./configs/prompts/animation_audio.yaml -W 512 -H 512 -acc"
      ]
     }
    ],
    "metadata": {
     "kernelspec": {
      "display_name": "Python 3",
      "language": "python",
      "name": "python3"
     },
     "language_info": {
      "name": "python",
      "version": ""
     }
    },
    "nbformat": 4,
    "nbformat_minor": 4
   }
   